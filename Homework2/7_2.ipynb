{
 "cells": [
  {
   "cell_type": "code",
   "execution_count": 2,
   "metadata": {},
   "outputs": [],
   "source": [
    "# import autograd / numpy necessities\n",
    "from autograd import numpy as np\n",
    "\n",
    "# set path to datasets\n",
    "datapath = 'datasets/'"
   ]
  },
  {
   "cell_type": "code",
   "execution_count": 21,
   "metadata": {},
   "outputs": [],
   "source": [
    "from autograd import grad \n",
    "\n",
    "# gradient descent function \n",
    "def gradient_descent(g,alpha,max_its,w):\n",
    "    # compute gradient module using autograd\n",
    "    gradient = grad(g)\n",
    "\n",
    "    # run the gradient descent loop\n",
    "    weight_history = [w] # weight history container\n",
    "    cost_history = [g(w)] # cost function history container\n",
    "    for k in range(max_its):\n",
    "        # evaluate the gradient\n",
    "        grad_eval = gradient(w)\n",
    "        #print(gradient)\n",
    "        # take gradient descent step\n",
    "        w = w - alpha*grad_eval\n",
    "        \n",
    "        # record weight and cost\n",
    "        weight_history.append(w)\n",
    "        cost_history.append(g(w))\n",
    "    return weight_history,cost_history"
   ]
  },
  {
   "cell_type": "code",
   "execution_count": 104,
   "metadata": {
    "scrolled": false
   },
   "outputs": [
    {
     "name": "stdout",
     "output_type": "stream",
     "text": [
      "[[0 0 2 0 0 0 2 2 1 0 0 1 2 3 1 1 1 1 3 1 2 2 2 2 2 2 2 2 2 3 2 3 3 3 3 3\n",
      "  3 3 3 3]]\n",
      "10\n"
     ]
    }
   ],
   "source": [
    "# location of dataset\n",
    "csvname = datapath + '4class_data.csv'\n",
    "data = np.loadtxt(csvname,delimiter = ',')\n",
    "\n",
    "# get input/output pairs\n",
    "x = data[:-1,:]\n",
    "x0 = np.insert(x,0,1,axis=0)\n",
    "y = data[-1:,:]\n",
    "\n",
    "for i in range(0,y.size):\n",
    "    if(y.T[i]==0):\n",
    "        yfit[0][i] = 1;\n",
    "    else:\n",
    "        yfit[0][i] = -1;    \n",
    "yp = []               \n",
    "max_its = 100; \n",
    "alpha_choice = 10**(-1);\n",
    "w = 0.1*np.random.randn(3,1)\n",
    "g = perceptron_cost;\n",
    "wc1,cost1 = gradient_descent(g,alpha_choice,max_its,w)  \n",
    "yp.append(model(x,wc1[-1]))\n",
    "for i in range(0,y.size):\n",
    "    if(y.T[i]==1):\n",
    "        yfit[0][i] = 1;\n",
    "    else:\n",
    "        yfit[0][i] = -1;\n",
    "\n",
    "wc2,cost2 = gradient_descent(g,alpha_choice,max_its,w)  \n",
    "yp.append(model(x,wc2[-1]))  \n",
    "for i in range(0,y.size):\n",
    "    if(y.T[i]==2):\n",
    "        yfit[0][i] = 1;\n",
    "    else:\n",
    "        yfit[0][i] = -1;\n",
    "wc3,cost3 = gradient_descent(g,alpha_choice,max_its,w)\n",
    "yp.append(model(x,wc3[-1]))\n",
    "for i in range(0,y.size):\n",
    "    if(y.T[i]==3):\n",
    "        yfit[0][i] = 1;\n",
    "    else:\n",
    "        yfit[0][i] = -1;\n",
    "wc4,cost4 = gradient_descent(g,alpha_choice,max_its,w) \n",
    "yp.append(model(x,wc4[-1]))\n",
    "#print(yp);\n",
    "\n",
    "y1 = (np.argmax(yp,0))\n",
    "print(y1)\n",
    "miss = identity_func(y,y1)\n",
    "print(miss)\n"
   ]
  },
  {
   "cell_type": "markdown",
   "metadata": {},
   "source": [
    "Predicted label y1 and number of miscalculations are shown"
   ]
  },
  {
   "cell_type": "code",
   "execution_count": 93,
   "metadata": {},
   "outputs": [],
   "source": [
    "def identity_func(y,yfit):\n",
    "    no_of_miscalc = 0;\n",
    "    \n",
    "    for i in range(0,y.size):\n",
    "        if(y.T[i] != yfit.T[i]):\n",
    "            no_of_miscalc +=1\n",
    "    \n",
    "    \n",
    "    return no_of_miscalc"
   ]
  },
  {
   "cell_type": "code",
   "execution_count": 6,
   "metadata": {},
   "outputs": [],
   "source": [
    "def model(x,w):\n",
    "    a = np.dot(x0.T,w)\n",
    "    return a.T"
   ]
  },
  {
   "cell_type": "code",
   "execution_count": 62,
   "metadata": {},
   "outputs": [],
   "source": [
    "def perceptron_cost(w):\n",
    "    a = model(x0,w)\n",
    "    cost = 0\n",
    "    for i in range(0,np.size(y)):\n",
    "        cost +=max(0,-yfit[0][i]*a[0][i])\n",
    "    return cost/float(np.size(y))"
   ]
  },
  {
   "cell_type": "code",
   "execution_count": null,
   "metadata": {},
   "outputs": [],
   "source": []
  }
 ],
 "metadata": {
  "kernelspec": {
   "display_name": "Python 3",
   "language": "python",
   "name": "python3"
  },
  "language_info": {
   "codemirror_mode": {
    "name": "ipython",
    "version": 3
   },
   "file_extension": ".py",
   "mimetype": "text/x-python",
   "name": "python",
   "nbconvert_exporter": "python",
   "pygments_lexer": "ipython3",
   "version": "3.7.0"
  }
 },
 "nbformat": 4,
 "nbformat_minor": 2
}
