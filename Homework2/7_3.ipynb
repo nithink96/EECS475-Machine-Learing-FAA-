{
 "cells": [
  {
   "cell_type": "code",
   "execution_count": 90,
   "metadata": {},
   "outputs": [],
   "source": [
    "# import autograd / numpy necessities\n",
    "from autograd import numpy as np\n",
    "\n",
    "# set path to datasets\n",
    "datapath = 'datasets/'"
   ]
  },
  {
   "cell_type": "code",
   "execution_count": 91,
   "metadata": {},
   "outputs": [],
   "source": [
    "from autograd import grad \n",
    "\n",
    "# gradient descent function \n",
    "def gradient_descent(g,alpha,max_its,w):\n",
    "    # compute gradient module using autograd\n",
    "    gradient = grad(g)\n",
    "\n",
    "    # run the gradient descent loop\n",
    "    weight_history = [w] # weight history container\n",
    "    cost_history = [g(w)] # cost function history container\n",
    "    for k in range(max_its):\n",
    "        # evaluate the gradient\n",
    "        grad_eval = gradient(w)\n",
    "\n",
    "        # take gradient descent step\n",
    "        w = w - alpha*grad_eval\n",
    "        \n",
    "        # record weight and cost\n",
    "        weight_history.append(w)\n",
    "        cost_history.append(g(w))\n",
    "    return weight_history,cost_history"
   ]
  },
  {
   "cell_type": "code",
   "execution_count": 116,
   "metadata": {
    "scrolled": true
   },
   "outputs": [
    {
     "name": "stdout",
     "output_type": "stream",
     "text": [
      "[0 0 0 0 0 0 0 0 0 0 1 1 1 1 1 1 1 1 1 1 2 2 2 2 2 2 2 2 2 2]\n",
      "0\n"
     ]
    }
   ],
   "source": [
    "# location of dataset\n",
    "csvname = datapath + '3class_data.csv'\n",
    "data = np.loadtxt(csvname,delimiter = ',')\n",
    "\n",
    "# get input/output pairs\n",
    "x = data[:-1,:]\n",
    "y = data[-1:,:] \n",
    "x0 = np.insert(x,0,1,axis=0)\n",
    "max_its = 100; \n",
    "alpha_choice = 10**(-1);\n",
    "w = 0.1*np.random.randn(3,3)\n",
    "g = multiclass_perceptron;\n",
    "weight_history,cost_history = gradient_descent(g,alpha_choice,max_its,w)\n",
    "\n",
    "y1 = np.argmax(model(x,weight_history[-1]),0)\n",
    "print(y1)\n",
    "mis = identity_func(y,y1)\n",
    "print(mis)"
   ]
  },
  {
   "cell_type": "markdown",
   "metadata": {},
   "source": [
    "The predicted label and number of misclassifications are shown\n"
   ]
  },
  {
   "cell_type": "code",
   "execution_count": 93,
   "metadata": {},
   "outputs": [],
   "source": [
    " # compute C linear combinations of input point, one per classifier \n",
    "def model(x,w):\n",
    "    a = w[0] + np.dot(x.T,w[1:]) \n",
    "    return a.T"
   ]
  },
  {
   "cell_type": "code",
   "execution_count": 114,
   "metadata": {},
   "outputs": [],
   "source": [
    "def identity_func(y,yfit):\n",
    "    no_of_miscalc = 0;\n",
    "    \n",
    "    for i in range(0,y.size):\n",
    "        if(y.T[i] != yfit.T[i]):\n",
    "            no_of_miscalc +=1\n",
    "    \n",
    "    \n",
    "    return no_of_miscalc"
   ]
  },
  {
   "cell_type": "code",
   "execution_count": 110,
   "metadata": {},
   "outputs": [],
   "source": [
    "# multiclass perceptron\n",
    "lam = 10**-5 # our regularization paramter \n",
    "def multiclass_perceptron(w):\n",
    "# pre-compute predictions on all points\n",
    "    all_evals = model(x,w)\n",
    "\n",
    "# compute maximum across data points\n",
    "    a = np.max(all_evals,axis = 0)\n",
    "# compute cost in compact form using numpy broadcasting\n",
    "    #print(y.shape)\n",
    "    b = all_evals[y.astype(int).flatten(),np.arange(np.size(y))]\n",
    "    \n",
    "    #print(b)\n",
    "    cost = np.sum(a - b)\n",
    "# add regularizer\n",
    "    cost = cost + lam*np.linalg.norm(w[1:,:],'fro')**2 \n",
    "    # return average\n",
    "    return cost/float(np.size(y))"
   ]
  },
  {
   "cell_type": "code",
   "execution_count": null,
   "metadata": {},
   "outputs": [],
   "source": []
  }
 ],
 "metadata": {
  "kernelspec": {
   "display_name": "Python 3",
   "language": "python",
   "name": "python3"
  },
  "language_info": {
   "codemirror_mode": {
    "name": "ipython",
    "version": 3
   },
   "file_extension": ".py",
   "mimetype": "text/x-python",
   "name": "python",
   "nbconvert_exporter": "python",
   "pygments_lexer": "ipython3",
   "version": "3.7.0"
  }
 },
 "nbformat": 4,
 "nbformat_minor": 2
}
