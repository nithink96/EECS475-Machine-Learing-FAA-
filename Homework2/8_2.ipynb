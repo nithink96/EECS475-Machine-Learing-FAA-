{
 "cells": [
  {
   "cell_type": "code",
   "execution_count": 3,
   "metadata": {},
   "outputs": [],
   "source": [
    "# import autograd / numpy necessities\n",
    "from autograd import numpy as np\n",
    "\n",
    "# set path to datasets\n",
    "datapath = 'datasets/'"
   ]
  },
  {
   "cell_type": "code",
   "execution_count": 4,
   "metadata": {},
   "outputs": [],
   "source": [
    "import matplotlib.pyplot as plt"
   ]
  },
  {
   "cell_type": "code",
   "execution_count": 5,
   "metadata": {},
   "outputs": [],
   "source": [
    "# import automatic differentiator to compute gradient module\n",
    "from autograd import grad \n",
    "\n",
    "# gradient descent function \n",
    "def gradient_descent(g,alpha,max_its,w):\n",
    "    # compute gradient module using autograd\n",
    "    gradient = grad(g)\n",
    "\n",
    "    # run the gradient descent loop\n",
    "    weight_history = [w] # weight history container\n",
    "    cost_history = [g(w)] # cost function history container\n",
    "    for k in range(max_its):\n",
    "        # evaluate the gradient\n",
    "        grad_eval = gradient(w)\n",
    "\n",
    "        # take gradient descent step\n",
    "        w = w - alpha*grad_eval\n",
    "        \n",
    "        # record weight and cost\n",
    "        weight_history.append(w)\n",
    "        cost_history.append(g(w))\n",
    "    return weight_history,cost_history"
   ]
  },
  {
   "cell_type": "code",
   "execution_count": 24,
   "metadata": {
    "scrolled": false
   },
   "outputs": [
    {
     "data": {
      "image/png": "[encoded data removed]",
      "text/plain": [
       "<Figure size 288x288 with 1 Axes>"
      ]
     },
     "metadata": {
      "needs_background": "light"
     },
     "output_type": "display_data"
    },
    {
     "data": {
      "image/png": "[encoded data removed]",
      "text/plain": [
       "<Figure size 288x288 with 1 Axes>"
      ]
     },
     "metadata": {
      "needs_background": "light"
     },
     "output_type": "display_data"
    }
   ],
   "source": [
    "# location of dataset\n",
    "csvname = datapath + '2d_span_data_centered.csv'\n",
    "\n",
    "# load in dataset\n",
    "X = np.loadtxt(csvname,delimiter = ',')\n",
    "#print(X[0].size)\n",
    "C = np.array([[2.0, 1.0], [1.0, 2.0]])\n",
    "w = 0.1*np.random.randn(2,50); \n",
    "\n",
    "#print(w_0)\n",
    "\n",
    "#print(w)\n",
    "g = least_squares\n",
    "weight_history1,cost_history1 = gradient_descent(g,0.01,70,w)\n",
    "#print(c)\n",
    "c1 = model(X[0,:],weight_history1[-1],0)\n",
    "c2 = model(X[1,:],weight_history1[-1],1)\n",
    "# plot dataset\n",
    "figure = plt.figure(figsize = (4,4))\n",
    "plt.scatter(X[0,:],X[1,:],s=60,c='k',edgecolor='w')\n",
    "plt.show()\n",
    "figure = plt.figure(figsize = (4,4))\n",
    "plt.scatter(c1,c2,s=60,c='k',edgecolor='w')\n",
    "plt.show()"
   ]
  },
  {
   "cell_type": "code",
   "execution_count": 23,
   "metadata": {},
   "outputs": [],
   "source": [
    "def model(X,w,i):\n",
    "    a = w[0] + np.dot(X.T[1],w[1:])\n",
    "    return a.T"
   ]
  },
  {
   "cell_type": "code",
   "execution_count": 16,
   "metadata": {},
   "outputs": [],
   "source": [
    "def least_squares(w):\n",
    "    cost = np.sum((np.dot(C,w) - X)**2) \n",
    "    return cost/float(np.size(X))"
   ]
  },
  {
   "cell_type": "code",
   "execution_count": null,
   "metadata": {},
   "outputs": [],
   "source": []
  }
 ],
 "metadata": {
  "kernelspec": {
   "display_name": "Python 3",
   "language": "python",
   "name": "python3"
  },
  "language_info": {
   "codemirror_mode": {
    "name": "ipython",
    "version": 3
   },
   "file_extension": ".py",
   "mimetype": "text/x-python",
   "name": "python",
   "nbconvert_exporter": "python",
   "pygments_lexer": "ipython3",
   "version": "3.7.0"
  }
 },
 "nbformat": 4,
 "nbformat_minor": 2
}
