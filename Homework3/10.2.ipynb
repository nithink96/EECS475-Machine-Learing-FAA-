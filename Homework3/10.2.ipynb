{
 "cells": [
  {
   "cell_type": "code",
   "execution_count": 7,
   "metadata": {},
   "outputs": [],
   "source": [
    "# import automatic differentiator to compute gradient module\n",
    "from autograd import grad \n",
    "\n",
    "# gradient descent function \n",
    "def gradient_descent(g,alpha,max_its,w):\n",
    "    # compute gradient module using autograd\n",
    "    gradient = grad(g)\n",
    "\n",
    "    # run the gradient descent loop\n",
    "    weight_history = [w] # weight history container\n",
    "    cost_history = [g(w)] # cost function history container\n",
    "    for k in range(max_its):\n",
    "        # evaluate the gradient\n",
    "        grad_eval = gradient(w)\n",
    "\n",
    "        # take gradient descent step\n",
    "        w = w - alpha*grad_eval\n",
    "        \n",
    "        # record weight and cost\n",
    "        weight_history.append(w)\n",
    "        cost_history.append(g(w))\n",
    "    return weight_history,cost_history"
   ]
  },
  {
   "cell_type": "code",
   "execution_count": 8,
   "metadata": {},
   "outputs": [],
   "source": [
    "# the import statement for matplotlib\n",
    "import matplotlib.pyplot as plt\n",
    "\n",
    "# cost function history plotter\n",
    "def plot_cost_histories(cost_histories,labels):\n",
    "    # create figure\n",
    "    plt.figure()\n",
    "    \n",
    "    # loop over cost histories and plot each one\n",
    "    for j in range(len(cost_histories)):\n",
    "        history = cost_histories[j]\n",
    "        label = labels[j]\n",
    "        plt.plot(history,label = label)\n",
    "    plt.legend(loc='center left', bbox_to_anchor=(1, 0.5))\n",
    "    plt.show()"
   ]
  },
  {
   "cell_type": "code",
   "execution_count": 18,
   "metadata": {
    "scrolled": true
   },
   "outputs": [
    {
     "data": {
      "image/png": "[encoded data removed]",
      "text/plain": [
       "<Figure size 432x288 with 1 Axes>"
      ]
     },
     "metadata": {
      "needs_background": "light"
     },
     "output_type": "display_data"
    },
    {
     "data": {
      "image/png": "[encoded data removed]",
      "text/plain": [
       "<Figure size 432x288 with 1 Axes>"
      ]
     },
     "metadata": {
      "needs_background": "light"
     },
     "output_type": "display_data"
    }
   ],
   "source": [
    "# libraries\n",
    "from autograd import numpy as np\n",
    "def std_norm(x):\n",
    "    return(x-mu)/sigma\n",
    "def rev_std_norm(x):\n",
    "    return x*sigma+mu\n",
    "\n",
    "def feature_transforms(x,w):\n",
    "    f = np.tanh(w[0] + np.dot(x.T,w[1:])).T\n",
    "    return f\n",
    "\n",
    "\n",
    "\n",
    "\n",
    "# import the dataset\n",
    "csvname = 'datasets/' + 'yeast.csv'\n",
    "data = np.loadtxt(csvname,delimiter=',')\n",
    "\n",
    "# cut into input/output data\n",
    "x = data[0:-1,:]\n",
    "y = data[-1:,:]\n",
    "mu = np.mean(x)\n",
    "sigma = np.std(x)\n",
    "x = std_norm(x)\n",
    "N = len(x)\n",
    "w = np.ones((N,1))\n",
    "w = np.array((w,w))\n",
    "alphas = [0.1]\n",
    "cost_histories = []\n",
    "weight_histories = []\n",
    "\n",
    "for i in range(len(alphas)):\n",
    "    weight_history,cost_history = gradient_descent(least_squares,alphas[i],100,w)\n",
    "    weight_histories.append(weight_history)\n",
    "    cost_histories.append(cost_history)\n",
    "w = weight_histories[0][-1]\n",
    "plot_cost_histories(cost_histories,alphas)\n",
    "#print(w.size)\n",
    "x = rev_std_norm(x)\n",
    "\n",
    "plt.scatter(x,y)\n",
    "x_v = np.linspace(0,18,50)\n",
    "y_v = w[0][0]+w[1][0]*np.tanh(w[0][0]+w[1][0]*std_norm(x_v))\n",
    "plt.plot(x_v,y_v)\n",
    "plt.xlabel('X')\n",
    "plt.ylabel('Y')\n",
    "plt.show()\n"
   ]
  },
  {
   "cell_type": "code",
   "execution_count": 4,
   "metadata": {},
   "outputs": [],
   "source": [
    "def least_squares(w):\n",
    "    cost = np.sum((model(x,w) - y)**2)\n",
    "    return cost/float(np.size(y))"
   ]
  },
  {
   "cell_type": "code",
   "execution_count": 5,
   "metadata": {},
   "outputs": [],
   "source": [
    "def model(x,w):\n",
    "    a =  np.dot(x.T,w)\n",
    "    return a.T"
   ]
  },
  {
   "cell_type": "code",
   "execution_count": null,
   "metadata": {},
   "outputs": [],
   "source": []
  }
 ],
 "metadata": {
  "kernelspec": {
   "display_name": "Python 3",
   "language": "python",
   "name": "python3"
  },
  "language_info": {
   "codemirror_mode": {
    "name": "ipython",
    "version": 3
   },
   "file_extension": ".py",
   "mimetype": "text/x-python",
   "name": "python",
   "nbconvert_exporter": "python",
   "pygments_lexer": "ipython3",
   "version": "3.7.0"
  }
 },
 "nbformat": 4,
 "nbformat_minor": 2
}
