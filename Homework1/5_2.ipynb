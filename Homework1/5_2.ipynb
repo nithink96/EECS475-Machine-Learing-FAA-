{
 "cells": [
  {
   "cell_type": "code",
   "execution_count": 21,
   "metadata": {},
   "outputs": [],
   "source": [
    "# import statements\n",
    "datapath = 'datasets/'\n",
    "from autograd import numpy as np"
   ]
  },
  {
   "cell_type": "code",
   "execution_count": 22,
   "metadata": {},
   "outputs": [],
   "source": [
    "from autograd import grad \n",
    "\n",
    "# gradient descent function \n",
    "def gradient_descent(g,alpha,max_its,w):\n",
    "    # compute gradient module using autograd\n",
    "    gradient = grad(g)\n",
    "\n",
    "    # run the gradient descent loop\n",
    "    weight_history = [w] # weight history container\n",
    "    cost_history = [g(w)] # cost function history container\n",
    "    for k in range(max_its):\n",
    "        # evaluate the gradient\n",
    "        grad_eval = gradient(w)\n",
    "\n",
    "        # take gradient descent step\n",
    "        w = w - alpha*grad_eval\n",
    "        \n",
    "        # record weight and cost\n",
    "        weight_history.append(w)\n",
    "        cost_history.append(g(w))\n",
    "    return weight_history,cost_history"
   ]
  },
  {
   "cell_type": "code",
   "execution_count": 58,
   "metadata": {},
   "outputs": [],
   "source": [
    "# the import statement for matplotlib\n",
    "import matplotlib.pyplot as plt\n",
    "\n",
    "# cost function history plotter\n",
    "def plot_cost_histories(cost_histories,labels):\n",
    "    # create figure\n",
    "    plt.figure()\n",
    "    \n",
    "    # loop over cost histories and plot each one\n",
    "    for j in range(len(cost_histories)):\n",
    "        history = cost_histories[j]\n",
    "        label = labels[j]\n",
    "        plt.plot(history,label = label)\n",
    "    plt.legend(loc='center left', bbox_to_anchor=(1, 0.5))\n",
    "    plt.show()"
   ]
  },
  {
   "cell_type": "code",
   "execution_count": 24,
   "metadata": {},
   "outputs": [],
   "source": [
    "def model(x,w):\n",
    "    a = w[0] + np.dot(x.T,w[1:])\n",
    "    return a.T\n"
   ]
  },
  {
   "cell_type": "code",
   "execution_count": 25,
   "metadata": {},
   "outputs": [],
   "source": [
    "\n",
    "def least_squares(w):\n",
    "    cost = np.sum((model(x_log,w) - y_log)**2)\n",
    "    return cost/float(np.size(y))"
   ]
  },
  {
   "cell_type": "code",
   "execution_count": 93,
   "metadata": {
    "scrolled": false
   },
   "outputs": [
    {
     "data": {
      "image/png": "[encoded data removed]",
      "text/plain": [
       "<Figure size 432x288 with 1 Axes>"
      ]
     },
     "metadata": {
      "needs_background": "light"
     },
     "output_type": "display_data"
    },
    {
     "name": "stdout",
     "output_type": "stream",
     "text": [
      "[[6.81472314]\n",
      " [0.65280985]]\n"
     ]
    },
    {
     "data": {
      "image/png": "[encoded data removed]",
      "text/plain": [
       "<Figure size 432x288 with 1 Axes>"
      ]
     },
     "metadata": {
      "needs_background": "light"
     },
     "output_type": "display_data"
    }
   ],
   "source": [
    "# load in dataset\n",
    "csvname = datapath + 'kleibers_law_data.csv'\n",
    "data = np.loadtxt(csvname,delimiter=',')\n",
    "import matplotlib.pyplot as plt\n",
    "# get input and output of dataset\n",
    "x = data[:-1,:]\n",
    "y = data[-1:,:] \n",
    "x_log = np.log(x)\n",
    "y_log = np.log(y)\n",
    "g = least_squares; \n",
    "w = 0.1*np.random.randn(2,1); max_its = 1000; alpha_choice = 10**(-2);\n",
    "weight_history, cost_history = gradient_descent(g,alpha_choice,max_its,w)\n",
    "plot_cost_histories([cost_history],labels = [r'$\\alpha = 10^{-2}$'])\n",
    "yfit = model(x_log, weight_history[-1])\n",
    "print(weight_history[-1])\n",
    "plt.figure()\n",
    "plt.plot(x_log,y_log,'bo')\n",
    "plt.plot(x_log,yfit,'rx')\n",
    "plt.xlabel(\"Log of Mass\")\n",
    "plt.ylabel(\"Log of Metabolic Rate\")\n",
    "plt.show()\n",
    "\n"
   ]
  },
  {
   "cell_type": "markdown",
   "metadata": {},
   "source": [
    "# b) Non-Linear Relationship Between X and Y\n",
    "        \n",
    "        ln(y) = w[1]*ln(x) + w[0]\n",
    "        ln(y)/w[1] = ln(x) + w[0]/w[1]\n",
    "        e^(ln(y)/w[1]) = e^(ln(x) + w[0]/w[1])\n",
    "        e^ln(y)^(1/w[1]) = e^ln(x) + 10.436\n",
    "        y^1.531 = x + 1.101 (approximated upto 3 decimal places)\n",
    "        \n",
    "        "
   ]
  },
  {
   "cell_type": "markdown",
   "metadata": {},
   "source": [
    " # c) Calories Required for an Animal Weighing 10kg\n",
    " \n",
    "         log(y10kg) = w[0] + w[1]*log(x)\n",
    "         log(y10kg) = 6.815 + 0.653*2.303\n",
    "         log(y10kg) = 6.965\n",
    "         y10kg = 1059.323\n",
    "         In calories,\n",
    "             y10kg = 1059.323/4.18\n",
    "                   = 253.427 cal"
   ]
  },
  {
   "cell_type": "code",
   "execution_count": null,
   "metadata": {},
   "outputs": [],
   "source": []
  }
 ],
 "metadata": {
  "kernelspec": {
   "display_name": "Python 3",
   "language": "python",
   "name": "python3"
  },
  "language_info": {
   "codemirror_mode": {
    "name": "ipython",
    "version": 3
   },
   "file_extension": ".py",
   "mimetype": "text/x-python",
   "name": "python",
   "nbconvert_exporter": "python",
   "pygments_lexer": "ipython3",
   "version": "3.7.0"
  }
 },
 "nbformat": 4,
 "nbformat_minor": 2
}
