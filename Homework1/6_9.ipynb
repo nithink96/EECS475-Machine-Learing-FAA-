{
 "cells": [
  {
   "cell_type": "code",
   "execution_count": 1,
   "metadata": {},
   "outputs": [],
   "source": [
    "# import statements\n",
    "datapath = 'datasets/'\n",
    "from autograd import numpy as np"
   ]
  },
  {
   "cell_type": "code",
   "execution_count": 2,
   "metadata": {},
   "outputs": [],
   "source": [
    "# import automatic differentiator to compute gradient module\n",
    "from autograd import grad \n",
    "\n",
    "# gradient descent function \n",
    "def gradient_descent(g,alpha,max_its,w):\n",
    "    # compute gradient module using autograd\n",
    "    gradient = grad(g)\n",
    "\n",
    "    # run the gradient descent loop\n",
    "    weight_history = [w] # weight history container\n",
    "    cost_history = [g(w)] # cost function history container\n",
    "    for k in range(max_its):\n",
    "        # evaluate the gradient\n",
    "        grad_eval = gradient(w)\n",
    "        \n",
    "\n",
    "        # take gradient descent step\n",
    "        w = w - alpha*grad_eval\n",
    "        \n",
    "        # record weight and cost\n",
    "        weight_history.append(w)\n",
    "        cost_history.append(g(w))\n",
    "    return weight_history,cost_history"
   ]
  },
  {
   "cell_type": "code",
   "execution_count": 3,
   "metadata": {},
   "outputs": [],
   "source": [
    "# the import statement for matplotlib\n",
    "import matplotlib.pyplot as plt\n",
    "\n",
    "# cost function history plotter\n",
    "def plot_cost_histories(cost_histories,labels):\n",
    "    # create figure\n",
    "    plt.figure()\n",
    "    \n",
    "    # loop over cost histories and plot each one\n",
    "    for j in range(len(cost_histories)):\n",
    "        history = cost_histories[j]\n",
    "        label = labels[j]\n",
    "        plt.plot(history,label = label)\n",
    "    plt.legend(loc='center left', bbox_to_anchor=(1, 0.5))\n",
    "    plt.show()"
   ]
  },
  {
   "cell_type": "code",
   "execution_count": 37,
   "metadata": {
    "scrolled": false
   },
   "outputs": [
    {
     "data": {
      "image/png": "[encoded data removed]",
      "text/plain": [
       "<Figure size 432x288 with 1 Axes>"
      ]
     },
     "metadata": {
      "needs_background": "light"
     },
     "output_type": "display_data"
    },
    {
     "data": {
      "image/png": "[encoded data removed]",
      "text/plain": [
       "<Figure size 432x288 with 1 Axes>"
      ]
     },
     "metadata": {
      "needs_background": "light"
     },
     "output_type": "display_data"
    },
    {
     "name": "stdout",
     "output_type": "stream",
     "text": [
      "0\n",
      "0\n"
     ]
    }
   ],
   "source": [
    "# load in dataset\n",
    "csvname = datapath + '3d_classification_data_v0.csv'\n",
    "data = np.loadtxt(csvname,delimiter = ',')\n",
    "\n",
    "# get input and output of dataset\n",
    "x = data[:-1,:]\n",
    "y = data[-1:,:] \n",
    "x0 = np.insert(x,0,1,axis=0)\n",
    "g1 = perceptron_cost\n",
    "g2 = perceptron_cost\n",
    "w = 0.1*np.random.randn(3,1) \n",
    "max_its = 50\n",
    "alpha1 = 10**(-2)\n",
    "alpha2 = 10**(-1)\n",
    "weight_history1, cost_history1 = gradient_descent(g1,alpha1,max_its,w)\n",
    "weight_history2, cost_history2 = gradient_descent(g2,alpha2,max_its,w)\n",
    "yfit1 = model(x0,weight_history1[-1])\n",
    "yfit2 = model(x0,weight_history2[-1])\n",
    "for i in range(0,len(yfit1.T)):\n",
    "    if(yfit1.T[i]> 0):\n",
    "        yfit1.T[i] = 1\n",
    "    else:\n",
    "        yfit1.T[i] = -1\n",
    "for i in range(0,len(yfit2.T)):\n",
    "    if(yfit2.T[i]> 0):\n",
    "        yfit2.T[i] = 1\n",
    "    else:\n",
    "        yfit2.T[i] = -1    \n",
    "plot_cost_histories([cost_history1,cost_history2],labels = [r'$\\alpha = 10^{-1}$',r'$\\alpha = 10^{-2}$'])\n",
    "plt.figure()\n",
    "for k in range(max_its):\n",
    "    mis1 = identity_func(yfit1,y)\n",
    "    plt.plot(k,mis1,'rx')\n",
    "    \n",
    "for k in range(max_its):\n",
    "    mis2 = identity_func(yfit2,y)\n",
    "    plt.plot(k,mis2,'bx')\n",
    "plt.show()\n",
    "print(mis1)\n",
    "print(mis2)\n",
    "\n"
   ]
  },
  {
   "cell_type": "code",
   "execution_count": 30,
   "metadata": {},
   "outputs": [],
   "source": [
    "def model(x0,w):\n",
    "    a =  np.dot(x0.T,w)\n",
    "    return a.T"
   ]
  },
  {
   "cell_type": "code",
   "execution_count": 31,
   "metadata": {},
   "outputs": [],
   "source": [
    "def perceptron_cost(w):\n",
    "    a = model(x0,w)\n",
    "    cost = 0\n",
    "    for i in range(0,np.size(y)):\n",
    "        cost +=max(0,-y[0][i]*a[0][i])\n",
    "    return cost/float(np.size(y))"
   ]
  },
  {
   "cell_type": "code",
   "execution_count": 36,
   "metadata": {},
   "outputs": [],
   "source": [
    "def identity_func(yfit,y):\n",
    "    no_of_miscalc = 0;\n",
    "\n",
    "    for i in range(0,y.size):\n",
    "        if(yfit.T[i] != y.T[i]):\n",
    "            no_of_miscalc +=1\n",
    "        return no_of_miscalc\n",
    "    \n",
    "\n",
    "    "
   ]
  },
  {
   "cell_type": "code",
   "execution_count": null,
   "metadata": {},
   "outputs": [],
   "source": []
  }
 ],
 "metadata": {
  "kernelspec": {
   "display_name": "Python 3",
   "language": "python",
   "name": "python3"
  },
  "language_info": {
   "codemirror_mode": {
    "name": "ipython",
    "version": 3
   },
   "file_extension": ".py",
   "mimetype": "text/x-python",
   "name": "python",
   "nbconvert_exporter": "python",
   "pygments_lexer": "ipython3",
   "version": "3.7.0"
  }
 },
 "nbformat": 4,
 "nbformat_minor": 2
}
