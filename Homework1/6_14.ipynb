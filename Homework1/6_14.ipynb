{
 "cells": [
  {
   "cell_type": "code",
   "execution_count": 1,
   "metadata": {},
   "outputs": [],
   "source": [
    "# import statements\n",
    "datapath = 'datasets/'\n",
    "from autograd import numpy as np"
   ]
  },
  {
   "cell_type": "code",
   "execution_count": 2,
   "metadata": {},
   "outputs": [],
   "source": [
    "# import automatic differentiator to compute gradient module\n",
    "from autograd import grad \n",
    "\n",
    "# gradient descent function \n",
    "def gradient_descent(g,alpha,max_its,w):\n",
    "    # compute gradient module using autograd\n",
    "    gradient = grad(g)\n",
    "\n",
    "    # run the gradient descent loop\n",
    "    weight_history = [w] # weight history container\n",
    "    cost_history = [g(w)] # cost function history container\n",
    "    for k in range(max_its):\n",
    "        # evaluate the gradient\n",
    "        grad_eval = gradient(w)\n",
    "\n",
    "        # take gradient descent step\n",
    "        w = w - alpha*grad_eval\n",
    "        \n",
    "        # record weight and cost\n",
    "        weight_history.append(w)\n",
    "        cost_history.append(g(w))\n",
    "    return weight_history,cost_history"
   ]
  },
  {
   "cell_type": "code",
   "execution_count": 3,
   "metadata": {},
   "outputs": [],
   "source": [
    "# the import statement for matplotlib\n",
    "import matplotlib.pyplot as plt\n",
    "\n",
    "# cost function history plotter\n",
    "def plot_cost_histories(cost_histories,labels):\n",
    "    # create figure\n",
    "    plt.figure()\n",
    "    \n",
    "    # loop over cost histories and plot each one\n",
    "    for j in range(len(cost_histories)):\n",
    "        history = cost_histories[j]\n",
    "        label = labels[j]\n",
    "        plt.plot(history,label = label)\n",
    "    plt.legend(loc='center left', bbox_to_anchor=(1, 0.5))\n",
    "    plt.show()"
   ]
  },
  {
   "cell_type": "code",
   "execution_count": 26,
   "metadata": {},
   "outputs": [
    {
     "data": {
      "image/png": "[encoded data removed]",
      "text/plain": [
       "<Figure size 432x288 with 1 Axes>"
      ]
     },
     "metadata": {
      "needs_background": "light"
     },
     "output_type": "display_data"
    },
    {
     "name": "stdout",
     "output_type": "stream",
     "text": [
      "69\n",
      "0.9012875536480687\n",
      "74\n",
      "0.894134477825465\n"
     ]
    }
   ],
   "source": [
    "# load in dataset\n",
    "csvname = datapath + 'breast_cancer_data.csv'\n",
    "data1 = np.loadtxt(csvname,delimiter = ',')\n",
    "\n",
    "# get input and output of dataset\n",
    "x = data1[:-1,:]\n",
    "y = data1[-1:,:] \n",
    "x0 = np.insert(x,0,1,axis=0)\n",
    "gp = perceptron_cost\n",
    "gs = softmax\n",
    "w = 0.1*np.random.randn(9,1) \n",
    "max_its = 50\n",
    "alpha = 10**(-1)\n",
    "weight_historyP, cost_historyP = gradient_descent(gp,alpha,max_its,w)\n",
    "weight_historyS, cost_historyS = gradient_descent(gs,alpha,max_its,w)\n",
    "yfitP = model(x0,weight_historyP[-1])\n",
    "for i in range(0,len(yfitP.T)):\n",
    "    if(yfitP.T[i]> 0):\n",
    "        yfitP.T[i] = 1\n",
    "    else:\n",
    "        yfitP.T[i] = -1\n",
    "yfitS = model(x0,weight_historyS[-1])\n",
    "for i in range(0,len(yfitS.T)):\n",
    "    if(yfitS.T[i]> 0):\n",
    "        yfitS.T[i] = 1\n",
    "    else:\n",
    "        yfitS.T[i] = -1\n",
    "plot_cost_histories([cost_historyP,cost_historyS],labels = [\"Perceptron\",\"Softmax\"])\n",
    "for k in range(max_its):\n",
    "    misP,accuracyP = identity_func(yfitP,y)\n",
    "for k in range(max_its):\n",
    "    misS,accuracyS = identity_func(yfitS,y)\n",
    "\n",
    "print(misP)\n",
    "print(accuracyP)\n",
    "print(misS)\n",
    "print(accuracyS)\n",
    "\n",
    "\n"
   ]
  },
  {
   "cell_type": "markdown",
   "metadata": {},
   "source": [
    "  Perceptron has a better accuracy than softmax cost function."
   ]
  },
  {
   "cell_type": "code",
   "execution_count": 4,
   "metadata": {},
   "outputs": [],
   "source": [
    "def model(x0,w):\n",
    "    a =  np.dot(x0.T,w)\n",
    "    return a.T"
   ]
  },
  {
   "cell_type": "code",
   "execution_count": 5,
   "metadata": {},
   "outputs": [],
   "source": [
    "def softmax(w):\n",
    "    cost = np.sum(np.log(1 + np.exp(-y*model(x0,w))))\n",
    "    return cost/float(np.size(y))"
   ]
  },
  {
   "cell_type": "code",
   "execution_count": 18,
   "metadata": {},
   "outputs": [],
   "source": [
    "def identity_func(yfit,y):\n",
    "    no_of_miscalc = 0;\n",
    "    for i in range(0,y.size):\n",
    "        if(yfit.T[i] != y.T[i]):\n",
    "            no_of_miscalc +=1\n",
    "    accuracy = 1- no_of_miscalc/float(y.size)\n",
    "    return no_of_miscalc,accuracy"
   ]
  },
  {
   "cell_type": "code",
   "execution_count": 22,
   "metadata": {},
   "outputs": [],
   "source": [
    "def perceptron_cost(w):\n",
    "    a = model(x0,w)\n",
    "    cost = 0\n",
    "    for i in range(0,np.size(y)):\n",
    "        cost +=max(0,-y[0][i]*a[0][i])\n",
    "    return cost/float(np.size(y))"
   ]
  },
  {
   "cell_type": "code",
   "execution_count": null,
   "metadata": {},
   "outputs": [],
   "source": []
  },
  {
   "cell_type": "code",
   "execution_count": null,
   "metadata": {},
   "outputs": [],
   "source": []
  }
 ],
 "metadata": {
  "kernelspec": {
   "display_name": "Python 3",
   "language": "python",
   "name": "python3"
  },
  "language_info": {
   "codemirror_mode": {
    "name": "ipython",
    "version": 3
   },
   "file_extension": ".py",
   "mimetype": "text/x-python",
   "name": "python",
   "nbconvert_exporter": "python",
   "pygments_lexer": "ipython3",
   "version": "3.7.0"
  }
 },
 "nbformat": 4,
 "nbformat_minor": 2
}
