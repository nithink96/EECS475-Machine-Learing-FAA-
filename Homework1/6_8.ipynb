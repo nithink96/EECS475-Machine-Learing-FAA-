{
 "cells": [
  {
   "cell_type": "code",
   "execution_count": 2,
   "metadata": {},
   "outputs": [],
   "source": [
    "# import statements\n",
    "datapath = 'datasets/'\n",
    "from autograd import numpy as np"
   ]
  },
  {
   "cell_type": "code",
   "execution_count": 3,
   "metadata": {},
   "outputs": [],
   "source": [
    "# import automatic differentiator to compute gradient module\n",
    "from autograd import grad \n",
    "\n",
    "# gradient descent function \n",
    "def gradient_descent(g,alpha,max_its,w):\n",
    "    # compute gradient module using autograd\n",
    "    gradient = grad(g)\n",
    "\n",
    "    # run the gradient descent loop\n",
    "    weight_history = [w] # weight history container\n",
    "    cost_history = [g(w)] # cost function history container\n",
    "    for k in range(max_its):\n",
    "        # evaluate the gradient\n",
    "        grad_eval = gradient(w)\n",
    "        #print(gradient)\n",
    "        # take gradient descent step\n",
    "        w = w - alpha*grad_eval\n",
    "        \n",
    "        # record weight and cost\n",
    "        weight_history.append(w)\n",
    "        cost_history.append(g(w))\n",
    "    return weight_history,cost_history"
   ]
  },
  {
   "cell_type": "code",
   "execution_count": 4,
   "metadata": {},
   "outputs": [],
   "source": [
    "# the import statement for matplotlib\n",
    "import matplotlib.pyplot as plt\n",
    "\n",
    "# cost function history plotter\n",
    "def plot_cost_histories(cost_histories,labels):\n",
    "    # create figure\n",
    "    plt.figure()\n",
    "    \n",
    "    # loop over cost histories and plot each one\n",
    "    for j in range(len(cost_histories)):\n",
    "        history = cost_histories[j]\n",
    "        label = labels[j]\n",
    "        plt.plot(history,label = label)\n",
    "    plt.legend(loc='center left', bbox_to_anchor=(1, 0.5))\n",
    "    plt.show()"
   ]
  },
  {
   "cell_type": "code",
   "execution_count": 8,
   "metadata": {
    "scrolled": false
   },
   "outputs": [
    {
     "data": {
      "image/png": "[encoded data removed]",
      "text/plain": [
       "<Figure size 432x288 with 1 Axes>"
      ]
     },
     "metadata": {
      "needs_background": "light"
     },
     "output_type": "display_data"
    },
    {
     "data": {
      "image/png": "[encoded data removed]",
      "text/plain": [
       "<Figure size 432x288 with 1 Axes>"
      ]
     },
     "metadata": {
      "needs_background": "light"
     },
     "output_type": "display_data"
    },
    {
     "name": "stdout",
     "output_type": "stream",
     "text": [
      "[[ 1.  1.  1. -1.  1. -1. -1.  1.  1.  1. -1. -1.  1. -1.  1. -1.  1. -1.\n",
      "  -1.  1.  1. -1.  1.  1. -1.  1.  1. -1.  1. -1. -1.  1. -1.  1. -1.  1.\n",
      "  -1. -1. -1. -1. -1.  1. -1. -1. -1.  1. -1. -1. -1. -1. -1. -1. -1. -1.\n",
      "   1.  1.  1. -1. -1.  1. -1. -1. -1.  1.  1.  1. -1.  1. -1.  1. -1.  1.\n",
      "   1. -1. -1. -1. -1. -1. -1.  1. -1.  1.  1. -1. -1. -1. -1.  1. -1. -1.\n",
      "  -1.  1.  1. -1.  1. -1. -1. -1. -1.  1.]]\n",
      "5\n"
     ]
    }
   ],
   "source": [
    "# load in dataset\n",
    "csvname = datapath + '3d_classification_data_v0.csv'\n",
    "data = np.loadtxt(csvname,delimiter = ',')\n",
    "\n",
    "# get input and output of dataset\n",
    "x = data[:-1,:]\n",
    "y = data[-1:,:] \n",
    "w = 0.1*np.random.randn(3,1)\n",
    "x0 = np.insert(x,0,1,axis=0)\n",
    "g = softmax\n",
    "max_its = 1000; alpha_choice = 10**(-1)\n",
    "weight_history1,cost_history1 = gradient_descent(g,alpha_choice, max_its, w)\n",
    "plot_cost_histories([cost_history1],labels = [r'$\\alpha = 10^{-1}$'])\n",
    "yfit = model(x0,weight_history1[-1])\n",
    "plt.figure()\n",
    "plt.scatter(x[0],x[1])\n",
    "plt.plot(0,yfit,'rx')\n",
    "#plt.plot(x[1],y[0],'ro')\n",
    "#plt.plot(x.T,yfit.T)\n",
    "plt.show()\n",
    "for i in range(0,len(yfit.T)):\n",
    "    if(yfit.T[i]> 0):\n",
    "        yfit.T[i] = 1\n",
    "    else:\n",
    "        yfit.T[i] = -1\n",
    "\n",
    "print(yfit)\n",
    "for k in range(max_its):\n",
    "    \n",
    "    mis = identity_func(yfit,y)\n",
    "\n",
    "    \n",
    "\n",
    "print(mis)\n",
    "\n"
   ]
  },
  {
   "cell_type": "code",
   "execution_count": 5,
   "metadata": {},
   "outputs": [],
   "source": [
    "def model(x0,w):\n",
    "    a =  np.dot(x0.T,w)\n",
    "    return a.T"
   ]
  },
  {
   "cell_type": "code",
   "execution_count": 6,
   "metadata": {},
   "outputs": [],
   "source": [
    "def softmax(w):\n",
    "    cost = np.sum(np.log(1 + np.exp(-y*model(x0,w))))\n",
    "    return cost/float(np.size(y))"
   ]
  },
  {
   "cell_type": "code",
   "execution_count": 7,
   "metadata": {},
   "outputs": [],
   "source": [
    "def identity_func(yfit,y):\n",
    "    no_of_miscalc = 0;\n",
    "    for i in range(0,y.size):\n",
    "        if(yfit.T[i] != y.T[i]):\n",
    "            no_of_miscalc +=1\n",
    "\n",
    "    return no_of_miscalc\n",
    "        "
   ]
  },
  {
   "cell_type": "code",
   "execution_count": null,
   "metadata": {},
   "outputs": [],
   "source": []
  },
  {
   "cell_type": "code",
   "execution_count": null,
   "metadata": {},
   "outputs": [],
   "source": []
  }
 ],
 "metadata": {
  "kernelspec": {
   "display_name": "Python 3",
   "language": "python",
   "name": "python3"
  },
  "language_info": {
   "codemirror_mode": {
    "name": "ipython",
    "version": 3
   },
   "file_extension": ".py",
   "mimetype": "text/x-python",
   "name": "python",
   "nbconvert_exporter": "python",
   "pygments_lexer": "ipython3",
   "version": "3.7.0"
  }
 },
 "nbformat": 4,
 "nbformat_minor": 2
}
